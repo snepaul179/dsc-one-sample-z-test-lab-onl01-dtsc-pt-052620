{
 "cells": [
  {
   "cell_type": "markdown",
   "metadata": {},
   "source": [
    "# One-Sample z-test - Lab\n",
    "\n",
    "## Introduction\n",
    "In this lab, you'll perform a few quick tests to help you better understand how hypothesis testing works.\n",
    "\n",
    "## Objectives\n",
    "You will be able to:\n",
    "\n",
    "* Explain use cases for a 1-sample z-test\n",
    "* Set up null and alternative hypotheses\n",
    "* Use the z-table and scipy methods to acquire the p value for a given z-score\n",
    "* Calculate and interpret p-value for significance of results\n",
    "\n",
    "## Exercise 1\n",
    "A fast-food chain claims that the mean time to order food at their restaurants is 60 seconds, with a standard deviation of 30 seconds. You decide to put this claim to the test and go to one of the restaurants to observe actual waiting times. You take a sample of 36 customers and find that the mean order time was 75 seconds. Does this finding provide enough evidence to contradict the fast food chain's claim of fast service?\n",
    "\n",
    "Follow the 5 steps shown in previous lesson and use $\\alpha$ = 0.05. "
   ]
  },
  {
   "cell_type": "code",
   "execution_count": 3,
   "metadata": {
    "ExecuteTime": {
     "end_time": "2020-08-11T20:49:15.525322Z",
     "start_time": "2020-08-11T20:49:15.517851Z"
    }
   },
   "outputs": [],
   "source": [
    "# State your null and alternative hypotheses\n",
    "import scipy.stats as stats\n",
    "import matplotlib.pyplot as plt\n",
    "import math\n",
    "import pandas as pd\n",
    "\n",
    "# Null hypotheses(H_0): With Confidence level of 95%, The mean order time is not significantly different.\n",
    "# Alternative hypotheses(H_a): With Confidence level of 95%, The mean order time is significantly more.\n",
    "# We will use 1-tail 1-sample z-test\n",
    "\n",
    "def z_value(mu, xbar, sigma, n):\n",
    "    return (xbar-mu)/(sigma/math.sqrt(n))"
   ]
  },
  {
   "cell_type": "code",
   "execution_count": 34,
   "metadata": {
    "ExecuteTime": {
     "end_time": "2020-08-11T23:50:51.189683Z",
     "start_time": "2020-08-11T23:50:51.180850Z"
    }
   },
   "outputs": [
    {
     "data": {
      "text/plain": [
       "(3.0, 0.0013498980316301035)"
      ]
     },
     "execution_count": 34,
     "metadata": {},
     "output_type": "execute_result"
    }
   ],
   "source": [
    "mu = 60\n",
    "sigma = 30\n",
    "n = 36\n",
    "xbar = 75\n",
    "alpha = 0.05\n",
    "z = z_value(mu, xbar, sigma, n)\n",
    "pval = 1 - stats.norm.cdf(z)\n",
    "z, pval\n",
    "# (p = 0.0013498980316301035, z = 3.0)"
   ]
  },
  {
   "cell_type": "code",
   "execution_count": 36,
   "metadata": {
    "ExecuteTime": {
     "end_time": "2020-08-11T23:51:25.470756Z",
     "start_time": "2020-08-11T23:51:25.463956Z"
    }
   },
   "outputs": [
    {
     "name": "stdout",
     "output_type": "stream",
     "text": [
      "Based on the p-value of 0.0013 which is LOWER than the alpha value of 0.05 we can REJECT \n",
      "the null hypotheses with a confidence level of 95%. Based on sample set the order time is\n",
      "significantly more than the fast service claims.\n"
     ]
    }
   ],
   "source": [
    "# Interpret the results in terms of the p-value\n",
    "result = 'LOWER' if pval < alpha else 'HIGHER'\n",
    "outcome = 'REJECT' if pval < alpha else 'NOT REJECT'\n",
    "print(\"\"\"Based on the p-value of {} which is {} than the alpha value of {} we can {} \n",
    "the null hypotheses with a confidence level of 95%. Based on sample set the order time is\n",
    "significantly more than the fast service claims.\"\"\"\n",
    "      .format(round(pval, 4), result , alpha, outcome ))\n"
   ]
  },
  {
   "cell_type": "markdown",
   "metadata": {},
   "source": [
    "## Exercise 2\n",
    "\n",
    "25 students complete a preparation program for taking the SAT test.  Here are the SAT scores from the 25 students who completed the program:\n",
    "\n",
    "``\n",
    "434 694 457 534 720 400 484 478 610 641 425 636 454 \n",
    "514 563 370 499 640 501 625 612 471 598 509 531\n",
    "``\n",
    "\n",
    "We know that the population average for SAT scores is 500 with a standard deviation of 100.\n",
    "\n",
    "Are our 25 students’ SAT scores significantly higher than the population's mean score? \n",
    "\n",
    "*Note that the SAT preparation program claims that it will increase (and not decrease) the SAT score.  So, you can conduct a one-directional test. (alpha = .05).*"
   ]
  },
  {
   "cell_type": "code",
   "execution_count": 39,
   "metadata": {
    "ExecuteTime": {
     "end_time": "2020-08-11T23:53:57.853389Z",
     "start_time": "2020-08-11T23:53:57.844709Z"
    },
    "code_folding": []
   },
   "outputs": [
    {
     "data": {
      "text/plain": [
       "536.0"
      ]
     },
     "execution_count": 39,
     "metadata": {},
     "output_type": "execute_result"
    }
   ],
   "source": [
    "# State your hypotheses \n",
    "# Null hypotheses(H_0): With Confidence level of 95%, The SAT scores are not significantly different that the population mean.\n",
    "# Alternative hypotheses(H_a): With Confidence level of 95%, The SAT scores are significantly different that the population mean.\n",
    "# We will use 1-tail 1-sample z-test\n",
    "\n",
    "test_scores = list((\"\"\"434 694 457 534 720 400 484 478 610 641 425 636 454 \n",
    "514 563 370 499 640 501 625 612 471 598 509 531\"\"\").split())\n",
    "test_scores = [int(x) for x in test_scores]\n",
    "np.array(test_scores).mean()"
   ]
  },
  {
   "cell_type": "code",
   "execution_count": 41,
   "metadata": {
    "ExecuteTime": {
     "end_time": "2020-08-12T00:01:05.613115Z",
     "start_time": "2020-08-12T00:01:05.605912Z"
    }
   },
   "outputs": [
    {
     "name": "stdout",
     "output_type": "stream",
     "text": [
      "SAT test p = 0.03593031911292577 and z_score = 1.8\n"
     ]
    }
   ],
   "source": [
    "# Give your solution here \n",
    "SAT_mu = 500\n",
    "SAT_sigma = 100\n",
    "test_mean = np.array(test_scores).mean()\n",
    "test_n = len(test_scores)\n",
    "SAT_alpha = 0.05\n",
    "\n",
    "# Plug in the valus in function to calculate Z value --> z_value(mu, xbar, sigma, n)\n",
    "SAT_z = z_value(SAT_mu, test_mean, SAT_sigma, test_n)\n",
    "SAT_pval = 1 - stats.norm.cdf(SAT_z) # To calculate the \n",
    "print('SAT test p = {} and z_score = {}'.format(SAT_pval,SAT_z)) \n",
    "\n",
    "# p = 0.03593031911292577, z = 1.8"
   ]
  },
  {
   "cell_type": "code",
   "execution_count": 44,
   "metadata": {
    "ExecuteTime": {
     "end_time": "2020-08-12T00:05:27.720024Z",
     "start_time": "2020-08-12T00:05:27.708649Z"
    }
   },
   "outputs": [
    {
     "name": "stdout",
     "output_type": "stream",
     "text": [
      "Based on the test p-value of 0.0359 which is LOWER than the alpha value of 0.05 we can REJECT \n",
      "the null hypotheses with a confidence level of 95%. Based on sample set the SAT preparation \n",
      "program does significantly increase the students SAT score.\n"
     ]
    }
   ],
   "source": [
    "# Interpret the results in terms of the p-value\n",
    "SAT_result = 'LOWER' if pval < SAT_alpha else 'HIGHER'\n",
    "SAT_outcome = 'REJECT' if pval < SAT_alpha else 'NOT REJECT'\n",
    "print(\"\"\"Based on the test p-value of {} which is {} than the alpha value of {} we can {} \n",
    "the null hypotheses with a confidence level of 95%. Based on sample set the SAT preparation \n",
    "program does significantly increase the students SAT score.\"\"\"\n",
    "      .format(round(SAT_pval, 4), SAT_result , SAT_alpha, SAT_outcome ))"
   ]
  },
  {
   "cell_type": "markdown",
   "metadata": {},
   "source": [
    "## Summary\n",
    "\n",
    "In this lesson, you conducted a couple of simple tests comparing sample and population means, in an attempt to reject our null hypotheses. This provides you with a strong foundation to move ahead with more advanced tests and approaches later on."
   ]
  }
 ],
 "metadata": {
  "kernelspec": {
   "display_name": "Python 3",
   "language": "python",
   "name": "python3"
  },
  "language_info": {
   "codemirror_mode": {
    "name": "ipython",
    "version": 3
   },
   "file_extension": ".py",
   "mimetype": "text/x-python",
   "name": "python",
   "nbconvert_exporter": "python",
   "pygments_lexer": "ipython3",
   "version": "3.6.9"
  },
  "toc": {
   "base_numbering": 1,
   "nav_menu": {},
   "number_sections": true,
   "sideBar": true,
   "skip_h1_title": false,
   "title_cell": "Table of Contents",
   "title_sidebar": "Contents",
   "toc_cell": false,
   "toc_position": {},
   "toc_section_display": true,
   "toc_window_display": false
  },
  "varInspector": {
   "cols": {
    "lenName": 16,
    "lenType": 16,
    "lenVar": 40
   },
   "kernels_config": {
    "python": {
     "delete_cmd_postfix": "",
     "delete_cmd_prefix": "del ",
     "library": "var_list.py",
     "varRefreshCmd": "print(var_dic_list())"
    },
    "r": {
     "delete_cmd_postfix": ") ",
     "delete_cmd_prefix": "rm(",
     "library": "var_list.r",
     "varRefreshCmd": "cat(var_dic_list()) "
    }
   },
   "types_to_exclude": [
    "module",
    "function",
    "builtin_function_or_method",
    "instance",
    "_Feature"
   ],
   "window_display": false
  }
 },
 "nbformat": 4,
 "nbformat_minor": 2
}
